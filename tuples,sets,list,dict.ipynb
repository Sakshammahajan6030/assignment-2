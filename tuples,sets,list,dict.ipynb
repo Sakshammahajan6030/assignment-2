{
  "nbformat": 4,
  "nbformat_minor": 0,
  "metadata": {
    "colab": {
      "provenance": []
    },
    "kernelspec": {
      "name": "python3",
      "display_name": "Python 3"
    },
    "language_info": {
      "name": "python"
    }
  },
  "cells": [
    {
      "cell_type": "code",
      "execution_count": 2,
      "metadata": {
        "colab": {
          "base_uri": "https://localhost:8080/"
        },
        "id": "CEtUVjsb5Ees",
        "outputId": "ab33b3d4-c01f-4de7-99c4-ab2ec1a6bb7d"
      },
      "outputs": [
        {
          "output_type": "stream",
          "name": "stdout",
          "text": [
            "face\n"
          ]
        }
      ],
      "source": [
        "#Discuss string slicing and provide examples\n",
        "\n",
        "\n",
        "#It is the meathod to which allows you to extract the portionof a string by specifying a start and end index\n",
        "str=\"face\"\n",
        "print(str[0:5])"
      ]
    },
    {
      "cell_type": "code",
      "source": [
        "#Explain the key features of lists in Python\n",
        "\n",
        "\n",
        "#lists are ordered,mutable and can contain items of different types at the same time"
      ],
      "metadata": {
        "id": "7gq0Yhua6RbA"
      },
      "execution_count": 3,
      "outputs": []
    },
    {
      "cell_type": "code",
      "source": [
        " #Describe how to access, modify, and delete elements in a list with examples\n",
        "\n",
        "\n",
        " #if you want to add some element use append(),extend() if yoou wnt to delete the item use remove(),pop() if you want to access iterate through the list's,increase the index\n"
      ],
      "metadata": {
        "id": "koE10PiB7WNg"
      },
      "execution_count": 4,
      "outputs": []
    },
    {
      "cell_type": "code",
      "source": [
        "#Compare and contrast tuples and lists with examples\n",
        "\n",
        "\n",
        "#list is a collectionof orderd elements they have square brackets and comma\n",
        "i= [10,12,14,16]#this is a list which also it is mutable"
      ],
      "metadata": {
        "id": "9piKmxHm8rWI"
      },
      "execution_count": 7,
      "outputs": []
    },
    {
      "cell_type": "code",
      "source": [
        "#tuple is a group of comma seperated by value within  parenthesis and\n",
        "t = (1,2,3,4,5)#this is a tuple and they are not mutable"
      ],
      "metadata": {
        "id": "Z12psyj1-LBu"
      },
      "execution_count": 8,
      "outputs": []
    },
    {
      "cell_type": "code",
      "source": [
        "#Describe the key features of sets and provide examples of their use\n",
        "\n",
        "\n",
        "#they are unorderd,sets do not allow duplicateset ,they may be modified,\n",
        "s = {1,2,3,4,3,4,2,2,4,1}"
      ],
      "metadata": {
        "id": "QYogLPj8A7Pv"
      },
      "execution_count": 11,
      "outputs": []
    },
    {
      "cell_type": "code",
      "source": [
        "print(s)"
      ],
      "metadata": {
        "colab": {
          "base_uri": "https://localhost:8080/"
        },
        "id": "CTDWvjgyCRq-",
        "outputId": "518928fe-7223-4560-d2ef-f5a9693859f2"
      },
      "execution_count": 12,
      "outputs": [
        {
          "output_type": "stream",
          "name": "stdout",
          "text": [
            "{1, 2, 3, 4}\n"
          ]
        }
      ]
    },
    {
      "cell_type": "code",
      "source": [
        "s.add(10)"
      ],
      "metadata": {
        "id": "8Pbr5tn6DyNq"
      },
      "execution_count": 13,
      "outputs": []
    },
    {
      "cell_type": "code",
      "source": [
        "s"
      ],
      "metadata": {
        "colab": {
          "base_uri": "https://localhost:8080/"
        },
        "id": "nHMrxHVdD4GD",
        "outputId": "4121078c-de97-4cd3-a7b4-5d403d5f07aa"
      },
      "execution_count": 14,
      "outputs": [
        {
          "output_type": "execute_result",
          "data": {
            "text/plain": [
              "{1, 2, 3, 4, 10}"
            ]
          },
          "metadata": {},
          "execution_count": 14
        }
      ]
    },
    {
      "cell_type": "code",
      "source": [
        "#Describe the key features of sets and provide examples of their use\n",
        "\n",
        "\n",
        "#tuples are immutable collection of variables,so they cant be changed after creation.It can be used to store multiple items in a single variable\n",
        "#sets can be changed after creation,they can be used where there is no need of order and you do not need duplicate items"
      ],
      "metadata": {
        "id": "luCdE6iHEjD7"
      },
      "execution_count": 19,
      "outputs": []
    },
    {
      "cell_type": "code",
      "source": [
        "#Describe how to add, modify, and delete items in a dictionary with examples\n",
        "\n",
        "\n",
        "#to remove use pop() or del,to add use dict[key]=\"value\",to modify i.update({\"d\": \"s4\"})"
      ],
      "metadata": {
        "id": "QyCUvkBiEpGZ"
      },
      "execution_count": 20,
      "outputs": []
    },
    {
      "cell_type": "code",
      "source": [
        "#Discuss the importance of dictionary keys being immutable and provide examples\n",
        "\n",
        "\n",
        "#immutability is essential for keys because it ensures that the dictionary bcan effciently look up values based their keys\n",
        "dict = {\"a\": 1, \"b\": 2, \"c\": 3}"
      ],
      "metadata": {
        "id": "Dr41y1w4Ij19"
      },
      "execution_count": 21,
      "outputs": []
    },
    {
      "cell_type": "code",
      "source": [
        "dict[\"a\"]"
      ],
      "metadata": {
        "colab": {
          "base_uri": "https://localhost:8080/"
        },
        "id": "HafIOaQGJiyn",
        "outputId": "c4530421-53a4-42c6-baae-50881dde1c6c"
      },
      "execution_count": 25,
      "outputs": [
        {
          "output_type": "execute_result",
          "data": {
            "text/plain": [
              "1"
            ]
          },
          "metadata": {},
          "execution_count": 25
        }
      ]
    },
    {
      "cell_type": "code",
      "source": [],
      "metadata": {
        "id": "v4b56aCiJmPE"
      },
      "execution_count": null,
      "outputs": []
    }
  ]
}